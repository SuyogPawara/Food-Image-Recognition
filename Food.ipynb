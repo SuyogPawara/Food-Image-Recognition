{
 "cells": [
  {
   "cell_type": "code",
   "execution_count": 1,
   "metadata": {},
   "outputs": [],
   "source": [
    "import numpy as np\n",
    "import pandas as pd\n",
    "import matplotlib.pyplot as plt\n",
    "import seaborn as sns\n",
    "import cv2\n",
    "import os, glob\n",
    "import tensorflow as tf\n",
    "from tqdm import tqdm\n",
    "from sklearn.metrics import confusion_matrix\n",
    "from sklearn.model_selection import train_test_split\n",
    "from keras.utils.np_utils import to_categorical\n",
    "from keras.models import Model, Sequential, Input, load_model\n",
    "from keras.layers import Dense, Dropout, Flatten, Conv2D, MaxPool2D, BatchNormalization, AveragePooling2D,GlobalAveragePooling2D,Activation\n",
    "from tensorflow.keras.optimizers import Adam\n",
    "from keras.preprocessing.image import ImageDataGenerator\n",
    "from keras.callbacks import ModelCheckpoint, ReduceLROnPlateau"
   ]
  },
  {
   "cell_type": "code",
   "execution_count": 2,
   "metadata": {},
   "outputs": [],
   "source": [
    "data_dir = 'D:\\DL\\Food image Classification\\Food/'"
   ]
  },
  {
   "cell_type": "code",
   "execution_count": 3,
   "metadata": {},
   "outputs": [],
   "source": [
    "datagen = ImageDataGenerator(rescale = 1./255, validation_split = 0.2)"
   ]
  },
  {
   "cell_type": "code",
   "execution_count": 4,
   "metadata": {},
   "outputs": [
    {
     "name": "stdout",
     "output_type": "stream",
     "text": [
      "Found 9600 images belonging to 12 classes.\n",
      "Found 2400 images belonging to 12 classes.\n"
     ]
    }
   ],
   "source": [
    "train_data = datagen.flow_from_directory(data_dir, target_size = (128,128), batch_size = 15, class_mode = 'categorical',\n",
    "                                        subset = 'training')\n",
    "\n",
    "val_data = datagen.flow_from_directory(data_dir, target_size = (128,128), batch_size = 15, class_mode = 'categorical',\n",
    "                                        subset = 'validation')"
   ]
  },
  {
   "cell_type": "code",
   "execution_count": 5,
   "metadata": {},
   "outputs": [
    {
     "name": "stdout",
     "output_type": "stream",
     "text": [
      "Model: \"sequential\"\n",
      "_________________________________________________________________\n",
      "Layer (type)                 Output Shape              Param #   \n",
      "=================================================================\n",
      "conv2d (Conv2D)              (None, 128, 128, 32)      896       \n",
      "_________________________________________________________________\n",
      "max_pooling2d (MaxPooling2D) (None, 64, 64, 32)        0         \n",
      "_________________________________________________________________\n",
      "conv2d_1 (Conv2D)            (None, 64, 64, 64)        18496     \n",
      "_________________________________________________________________\n",
      "max_pooling2d_1 (MaxPooling2 (None, 32, 32, 64)        0         \n",
      "_________________________________________________________________\n",
      "conv2d_2 (Conv2D)            (None, 32, 32, 96)        55392     \n",
      "_________________________________________________________________\n",
      "max_pooling2d_2 (MaxPooling2 (None, 16, 16, 96)        0         \n",
      "_________________________________________________________________\n",
      "conv2d_3 (Conv2D)            (None, 16, 16, 96)        83040     \n",
      "_________________________________________________________________\n",
      "max_pooling2d_3 (MaxPooling2 (None, 8, 8, 96)          0         \n",
      "_________________________________________________________________\n",
      "flatten (Flatten)            (None, 6144)              0         \n",
      "_________________________________________________________________\n",
      "dense (Dense)                (None, 512)               3146240   \n",
      "_________________________________________________________________\n",
      "activation (Activation)      (None, 512)               0         \n",
      "_________________________________________________________________\n",
      "dense_1 (Dense)              (None, 12)                6156      \n",
      "=================================================================\n",
      "Total params: 3,310,220\n",
      "Trainable params: 3,310,220\n",
      "Non-trainable params: 0\n",
      "_________________________________________________________________\n"
     ]
    }
   ],
   "source": [
    "model = Sequential()\n",
    "model.add(Conv2D(filters=32, kernel_size=(3,3), padding='Same', activation='relu', input_shape=(128, 128, 3)))\n",
    "model.add(MaxPool2D(pool_size=(2,2)))\n",
    "\n",
    "model.add(Conv2D(filters=64, kernel_size=(3,3), padding='Same', activation='relu'))\n",
    "model.add(MaxPool2D(pool_size=(2,2), strides=(2,2)))\n",
    "\n",
    "model.add(Conv2D(filters=96, kernel_size=(3,3), padding='Same', activation='relu'))\n",
    "model.add(MaxPool2D(pool_size=(2,2), strides=(2,2)))\n",
    "\n",
    "model.add(Conv2D(filters=96, kernel_size=(3,3), padding='Same', activation='relu'))\n",
    "model.add(MaxPool2D(pool_size=(2,2), strides=(2,2)))\n",
    "\n",
    "model.add(Flatten())\n",
    "model.add(Dense(512))\n",
    "model.add(Activation('relu'))\n",
    "model.add(Dense(12, activation=\"softmax\"))\n",
    "\n",
    "\n",
    "model.summary()"
   ]
  },
  {
   "cell_type": "code",
   "execution_count": 6,
   "metadata": {},
   "outputs": [
    {
     "name": "stdout",
     "output_type": "stream",
     "text": [
      "Epoch 1/10\n",
      "640/640 [==============================] - 437s 675ms/step - loss: 2.3849 - accuracy: 0.1407 - val_loss: 2.3230 - val_accuracy: 0.1813\n",
      "Epoch 2/10\n",
      "640/640 [==============================] - 462s 722ms/step - loss: 2.2550 - accuracy: 0.2123 - val_loss: 2.2157 - val_accuracy: 0.2317\n",
      "Epoch 3/10\n",
      "640/640 [==============================] - 438s 684ms/step - loss: 2.0816 - accuracy: 0.2860 - val_loss: 2.0727 - val_accuracy: 0.2904\n",
      "Epoch 4/10\n",
      "640/640 [==============================] - 485s 758ms/step - loss: 1.8945 - accuracy: 0.3555 - val_loss: 2.0216 - val_accuracy: 0.3342\n",
      "Epoch 5/10\n",
      "640/640 [==============================] - 265s 413ms/step - loss: 1.6462 - accuracy: 0.4452 - val_loss: 1.9876 - val_accuracy: 0.3683\n",
      "Epoch 6/10\n",
      "640/640 [==============================] - 218s 340ms/step - loss: 1.3411 - accuracy: 0.5487 - val_loss: 2.0699 - val_accuracy: 0.3417\n",
      "Epoch 7/10\n",
      "640/640 [==============================] - 211s 330ms/step - loss: 0.9619 - accuracy: 0.6770 - val_loss: 2.4183 - val_accuracy: 0.3533\n",
      "Epoch 8/10\n",
      "640/640 [==============================] - 851s 1s/step - loss: 0.5873 - accuracy: 0.8073 - val_loss: 3.1475 - val_accuracy: 0.3225\n",
      "Epoch 9/10\n",
      "640/640 [==============================] - 710s 1s/step - loss: 0.3420 - accuracy: 0.8908 - val_loss: 3.9145 - val_accuracy: 0.3400\n",
      "Epoch 10/10\n",
      "640/640 [==============================] - 211s 329ms/step - loss: 0.2466 - accuracy: 0.9185 - val_loss: 4.6297 - val_accuracy: 0.3229\n"
     ]
    }
   ],
   "source": [
    "model.compile(optimizer=\"adam\",loss=\"categorical_crossentropy\",metrics=['accuracy'])\n",
    "history = model.fit(train_data, epochs = 10, verbose = 1,validation_data=val_data)"
   ]
  },
  {
   "cell_type": "code",
   "execution_count": 7,
   "metadata": {},
   "outputs": [
    {
     "name": "stdout",
     "output_type": "stream",
     "text": [
      "160/160 [==============================] - 12s 74ms/step - loss: 4.6297 - accuracy: 0.3229\n"
     ]
    }
   ],
   "source": [
    "model.evaluate(val_data)\n",
    "model.save(\"D:\\DL\\Food image Classification\\models\\CNN.h5\")"
   ]
  },
  {
   "cell_type": "code",
   "execution_count": 8,
   "metadata": {},
   "outputs": [
    {
     "data": {
      "image/png": "[encoded data removed]",
      "text/plain": [
       "<Figure size 432x288 with 1 Axes>"
      ]
     },
     "metadata": {
      "needs_background": "light"
     },
     "output_type": "display_data"
    },
    {
     "data": {
      "image/png": "[encoded data removed]",
      "text/plain": [
       "<Figure size 432x288 with 1 Axes>"
      ]
     },
     "metadata": {
      "needs_background": "light"
     },
     "output_type": "display_data"
    }
   ],
   "source": [
    "plt.plot(history.history['accuracy'])\n",
    "plt.plot(history.history['loss'])\n",
    "plt.title('model accuracy')\n",
    "plt.ylabel('accuracy')\n",
    "plt.xlabel('epoch')\n",
    "plt.legend(['train', 'test'], loc='upper left')\n",
    "plt.show()\n",
    "\n",
    "plt.plot(history.history['loss'])\n",
    "plt.plot(history.history['val_loss'])\n",
    "plt.title('model loss')\n",
    "plt.ylabel('loss')\n",
    "plt.xlabel('epoch')\n",
    "plt.legend(['train', 'test'], loc='upper left')\n",
    "plt.show()"
   ]
  },
  {
   "cell_type": "code",
   "execution_count": 9,
   "metadata": {},
   "outputs": [],
   "source": [
    "ReLU = tf.keras.layers.ReLU()"
   ]
  },
  {
   "cell_type": "code",
   "execution_count": 10,
   "metadata": {},
   "outputs": [],
   "source": [
    "def fire_module(x,s1,e1,e3):\n",
    "    s1x = Conv2D(s1,kernel_size = 1, padding = 'same')(x)\n",
    "    s1x = ReLU()(s1x)\n",
    "    e1x = Conv2D(e1,kernel_size = 1, padding = 'same')(s1x)\n",
    "    e3x = Conv2D(e3,kernel_size = 3, padding = 'same')(s1x)\n",
    "    x = concatenate([e1x,e3x])\n",
    "    x = ReLU()(x)\n",
    "    return x"
   ]
  },
  {
   "cell_type": "code",
   "execution_count": 11,
   "metadata": {},
   "outputs": [
    {
     "name": "stdout",
     "output_type": "stream",
     "text": [
      "Model: \"sequential\"\n",
      "_________________________________________________________________\n",
      "Layer (type)                 Output Shape              Param #   \n",
      "=================================================================\n",
      "conv2d (Conv2D)              (None, 128, 128, 32)      896       \n",
      "_________________________________________________________________\n",
      "max_pooling2d (MaxPooling2D) (None, 64, 64, 32)        0         \n",
      "_________________________________________________________________\n",
      "conv2d_1 (Conv2D)            (None, 64, 64, 64)        18496     \n",
      "_________________________________________________________________\n",
      "max_pooling2d_1 (MaxPooling2 (None, 32, 32, 64)        0         \n",
      "_________________________________________________________________\n",
      "conv2d_2 (Conv2D)            (None, 32, 32, 96)        55392     \n",
      "_________________________________________________________________\n",
      "max_pooling2d_2 (MaxPooling2 (None, 16, 16, 96)        0         \n",
      "_________________________________________________________________\n",
      "conv2d_3 (Conv2D)            (None, 16, 16, 96)        83040     \n",
      "_________________________________________________________________\n",
      "max_pooling2d_3 (MaxPooling2 (None, 8, 8, 96)          0         \n",
      "_________________________________________________________________\n",
      "flatten (Flatten)            (None, 6144)              0         \n",
      "_________________________________________________________________\n",
      "dense (Dense)                (None, 512)               3146240   \n",
      "_________________________________________________________________\n",
      "activation (Activation)      (None, 512)               0         \n",
      "_________________________________________________________________\n",
      "dense_1 (Dense)              (None, 12)                6156      \n",
      "=================================================================\n",
      "Total params: 3,310,220\n",
      "Trainable params: 3,310,220\n",
      "Non-trainable params: 0\n",
      "_________________________________________________________________\n"
     ]
    }
   ],
   "source": [
    "def SqueezeNet(input_shape=(64,64,3), nclasses=12):\n",
    "    input = Input(input_shape)\n",
    "    x = Conv2D(96,kernel_size=(7,7),strides=(2,2),padding='same')(input)\n",
    "    x = MaxPool2D(pool_size=(3,3), strides = (2,2))(x)\n",
    "    x = fire_module(x, s1 = 16, e1 = 64, e3 = 64) #2\n",
    "    x = fire_module(x, s1 = 16, e1 = 64, e3 = 64) #3\n",
    "    x = fire_module(x, s1 = 32, e1 = 128, e3 = 128) #4\n",
    "    x = MaxPool2D(pool_size=(3,3), strides = (2,2))(x)\n",
    "    x = fire_module(x, s1 = 32, e1 = 128, e3 = 128) #5\n",
    "    x = fire_module(x, s1 = 48, e1 = 192, e3 = 192) #6\n",
    "    x = fire_module(x, s1 = 48, e1 = 192, e3 = 192) #7\n",
    "    x = fire_module(x, s1 = 64, e1 = 256, e3 = 256) #8\n",
    "    x = MaxPool2D(pool_size=(3,3), strides = (2,2))(x)\n",
    "    x = fire_module(x, s1 = 64, e1 = 256, e3 = 256) #9\n",
    "    x = Dropout(0.5)(x)\n",
    "    x = Conv2D(nclasses,kernel_size = 1)(x)\n",
    "    output = AvgPool2D(pool_size=(13,13))(x)\n",
    "    model = Model(input, output)\n",
    "    return model\n",
    "model1=model\n",
    "model1.summary()"
   ]
  },
  {
   "cell_type": "code",
   "execution_count": 12,
   "metadata": {},
   "outputs": [
    {
     "name": "stdout",
     "output_type": "stream",
     "text": [
      "Epoch 1/10\n",
      "640/640 [==============================] - 211s 326ms/step - loss: 0.1875 - accuracy: 0.9415 - val_loss: 5.9100 - val_accuracy: 0.3100\n",
      "Epoch 2/10\n",
      "640/640 [==============================] - 210s 328ms/step - loss: 0.1372 - accuracy: 0.9592 - val_loss: 5.7771 - val_accuracy: 0.3246\n",
      "Epoch 3/10\n",
      "640/640 [==============================] - 212s 331ms/step - loss: 0.1248 - accuracy: 0.9632 - val_loss: 6.0881 - val_accuracy: 0.3075\n",
      "Epoch 4/10\n",
      "640/640 [==============================] - 921s 1s/step - loss: 0.1182 - accuracy: 0.9640 - val_loss: 6.2682 - val_accuracy: 0.3196\n",
      "Epoch 5/10\n",
      "640/640 [==============================] - 272s 425ms/step - loss: 0.1080 - accuracy: 0.9664 - val_loss: 6.9772 - val_accuracy: 0.3067\n",
      "Epoch 6/10\n",
      "640/640 [==============================] - 201s 315ms/step - loss: 0.1050 - accuracy: 0.9680 - val_loss: 7.2324 - val_accuracy: 0.3208\n",
      "Epoch 7/10\n",
      "640/640 [==============================] - 208s 325ms/step - loss: 0.1080 - accuracy: 0.9696 - val_loss: 6.8941 - val_accuracy: 0.3050\n",
      "Epoch 8/10\n",
      "640/640 [==============================] - 218s 340ms/step - loss: 0.0873 - accuracy: 0.9753 - val_loss: 6.9415 - val_accuracy: 0.3050\n",
      "Epoch 9/10\n",
      "640/640 [==============================] - 209s 327ms/step - loss: 0.0995 - accuracy: 0.9726 - val_loss: 6.8550 - val_accuracy: 0.3042\n",
      "Epoch 10/10\n",
      "640/640 [==============================] - 203s 318ms/step - loss: 0.0825 - accuracy: 0.9758 - val_loss: 8.0841 - val_accuracy: 0.3000\n"
     ]
    }
   ],
   "source": [
    "model1.compile(optimizer=\"adam\",loss=\"categorical_crossentropy\",metrics=['accuracy'])\n",
    "history1 = model1.fit(train_data, epochs = 10, verbose = 1,validation_data=val_data)"
   ]
  },
  {
   "cell_type": "code",
   "execution_count": 13,
   "metadata": {},
   "outputs": [
    {
     "name": "stdout",
     "output_type": "stream",
     "text": [
      "160/160 [==============================] - 12s 76ms/step - loss: 8.0841 - accuracy: 0.3000\n"
     ]
    }
   ],
   "source": [
    "model1.evaluate(val_data)\n",
    "model1.save(\"D:\\DL\\Food image Classification\\models\\SqueezeNet.h5\")"
   ]
  },
  {
   "cell_type": "code",
   "execution_count": 14,
   "metadata": {},
   "outputs": [
    {
     "data": {
      "image/png": "[encoded data removed]",
      "text/plain": [
       "<Figure size 432x288 with 1 Axes>"
      ]
     },
     "metadata": {
      "needs_background": "light"
     },
     "output_type": "display_data"
    },
    {
     "data": {
      "image/png": "[encoded data removed]",
      "text/plain": [
       "<Figure size 432x288 with 1 Axes>"
      ]
     },
     "metadata": {
      "needs_background": "light"
     },
     "output_type": "display_data"
    }
   ],
   "source": [
    "plt.plot(history1.history['accuracy'])\n",
    "plt.plot(history1.history['loss'])\n",
    "plt.title('model accuracy')\n",
    "plt.ylabel('accuracy')\n",
    "plt.xlabel('epoch')\n",
    "plt.legend(['train', 'test'], loc='upper left')\n",
    "plt.show()\n",
    "\n",
    "plt.plot(history1.history['loss'])\n",
    "plt.plot(history1.history['val_loss'])\n",
    "plt.title('model loss')\n",
    "plt.ylabel('loss')\n",
    "plt.xlabel('epoch')\n",
    "plt.legend(['train', 'test'], loc='upper left')\n",
    "plt.show()"
   ]
  },
  {
   "cell_type": "code",
   "execution_count": 5,
   "metadata": {},
   "outputs": [
    {
     "name": "stdout",
     "output_type": "stream",
     "text": [
      "Model: \"sequential\"\n",
      "_________________________________________________________________\n",
      "Layer (type)                 Output Shape              Param #   \n",
      "=================================================================\n",
      "vgg16 (Functional)           (None, 2, 2, 512)         14714688  \n",
      "_________________________________________________________________\n",
      "global_average_pooling2d (Gl (None, 512)               0         \n",
      "_________________________________________________________________\n",
      "dense (Dense)                (None, 64)                32832     \n",
      "_________________________________________________________________\n",
      "batch_normalization (BatchNo (None, 64)                256       \n",
      "_________________________________________________________________\n",
      "dropout (Dropout)            (None, 64)                0         \n",
      "_________________________________________________________________\n",
      "dense_1 (Dense)              (None, 12)                780       \n",
      "=================================================================\n",
      "Total params: 14,748,556\n",
      "Trainable params: 14,748,428\n",
      "Non-trainable params: 128\n",
      "_________________________________________________________________\n"
     ]
    }
   ],
   "source": [
    "base_model2 = tf.keras.applications.VGG16(input_shape=(64, 64, 3), include_top=False,\n",
    "                          weights='imagenet')\n",
    "model2 = Sequential()\n",
    "model2.add(base_model2)\n",
    "model2.add(GlobalAveragePooling2D())\n",
    "model2.add(Dense(64, activation='relu'))\n",
    "model2.add(BatchNormalization())\n",
    "model2.add(Dropout(0.2))\n",
    "model2.add(Dense(12, activation='sigmoid'))\n",
    "model2.summary()"
   ]
  },
  {
   "cell_type": "code",
   "execution_count": 6,
   "metadata": {},
   "outputs": [
    {
     "name": "stdout",
     "output_type": "stream",
     "text": [
      "Epoch 1/10\n",
      "640/640 [==============================] - 2713s 4s/step - loss: 2.4882 - accuracy: 0.1201 - val_loss: 2.8718 - val_accuracy: 0.1375\n",
      "Epoch 2/10\n",
      "640/640 [==============================] - 2697s 4s/step - loss: 2.3918 - accuracy: 0.1403 - val_loss: 2.5610 - val_accuracy: 0.1275\n",
      "Epoch 3/10\n",
      "640/640 [==============================] - 2473s 4s/step - loss: 2.3226 - accuracy: 0.1641 - val_loss: 2.7311 - val_accuracy: 0.1517\n",
      "Epoch 4/10\n",
      "640/640 [==============================] - 2343s 4s/step - loss: 2.2837 - accuracy: 0.1794 - val_loss: 2.3108 - val_accuracy: 0.1942\n",
      "Epoch 5/10\n",
      "640/640 [==============================] - 2727s 4s/step - loss: 2.2610 - accuracy: 0.1853 - val_loss: 2.6860 - val_accuracy: 0.1462\n",
      "Epoch 6/10\n",
      "640/640 [==============================] - 2536s 4s/step - loss: 2.2354 - accuracy: 0.1918 - val_loss: 2.2526 - val_accuracy: 0.1958\n",
      "Epoch 7/10\n",
      "640/640 [==============================] - 2244s 4s/step - loss: 2.2312 - accuracy: 0.1920 - val_loss: 2.4044 - val_accuracy: 0.1642\n",
      "Epoch 8/10\n",
      "640/640 [==============================] - 2549s 4s/step - loss: 2.2151 - accuracy: 0.1890 - val_loss: 2.1631 - val_accuracy: 0.1963\n",
      "Epoch 9/10\n",
      "640/640 [==============================] - 2658s 4s/step - loss: 2.1949 - accuracy: 0.1968 - val_loss: 2.3316 - val_accuracy: 0.1350\n",
      "Epoch 10/10\n",
      "640/640 [==============================] - 2670s 4s/step - loss: 2.1748 - accuracy: 0.1992 - val_loss: 8189752.5000 - val_accuracy: 0.1625\n"
     ]
    }
   ],
   "source": [
    "model2.compile(optimizer=\"adam\",loss=\"categorical_crossentropy\",metrics=['accuracy'])\n",
    "history2 = model2.fit(train_data, epochs = 10, verbose = 1,validation_data=val_data)"
   ]
  },
  {
   "cell_type": "code",
   "execution_count": 7,
   "metadata": {},
   "outputs": [
    {
     "name": "stdout",
     "output_type": "stream",
     "text": [
      "160/160 [==============================] - 126s 787ms/step - loss: 8189762.5000 - accuracy: 0.1625\n"
     ]
    },
    {
     "data": {
      "text/plain": [
       "[8189762.5, 0.16249999403953552]"
      ]
     },
     "execution_count": 7,
     "metadata": {},
     "output_type": "execute_result"
    }
   ],
   "source": [
    "model2.evaluate(val_data)"
   ]
  },
  {
   "cell_type": "code",
   "execution_count": 8,
   "metadata": {},
   "outputs": [
    {
     "data": {
      "image/png": "[encoded data removed]",
      "text/plain": [
       "<Figure size 432x288 with 1 Axes>"
      ]
     },
     "metadata": {
      "needs_background": "light"
     },
     "output_type": "display_data"
    },
    {
     "data": {
      "image/png": "[encoded data removed]",
      "text/plain": [
       "<Figure size 432x288 with 1 Axes>"
      ]
     },
     "metadata": {
      "needs_background": "light"
     },
     "output_type": "display_data"
    }
   ],
   "source": [
    "plt.plot(history2.history['accuracy'])\n",
    "plt.plot(history2.history['loss'])\n",
    "plt.title('model accuracy')\n",
    "plt.ylabel('accuracy')\n",
    "plt.xlabel('epoch')\n",
    "plt.legend(['train', 'test'], loc='upper left')\n",
    "plt.show()\n",
    "\n",
    "plt.plot(history2.history['loss'])\n",
    "plt.plot(history2.history['val_loss'])\n",
    "plt.title('model loss')\n",
    "plt.ylabel('loss')\n",
    "plt.xlabel('epoch')\n",
    "plt.legend(['train', 'test'], loc='upper left')\n",
    "plt.show()"
   ]
  },
  {
   "cell_type": "code",
   "execution_count": 9,
   "metadata": {},
   "outputs": [],
   "source": [
    "model2.save(\"D:\\DL\\Food image Classification\\models\\VGG16.h5\")"
   ]
  },
  {
   "cell_type": "code",
   "execution_count": 10,
   "metadata": {},
   "outputs": [
    {
     "ename": "NameError",
     "evalue": "name 'history' is not defined",
     "output_type": "error",
     "traceback": [
      "\u001b[1;31m---------------------------------------------------------------------------\u001b[0m",
      "\u001b[1;31mNameError\u001b[0m                                 Traceback (most recent call last)",
      "\u001b[1;32m<ipython-input-10-56568aa58d77>\u001b[0m in \u001b[0;36m<module>\u001b[1;34m\u001b[0m\n\u001b[0;32m      1\u001b[0m \u001b[0mAccuracy\u001b[0m \u001b[1;33m=\u001b[0m \u001b[1;33m[\u001b[0m\u001b[1;33m]\u001b[0m\u001b[1;33m\u001b[0m\u001b[1;33m\u001b[0m\u001b[0m\n\u001b[0;32m      2\u001b[0m \u001b[1;33m\u001b[0m\u001b[0m\n\u001b[1;32m----> 3\u001b[1;33m \u001b[1;32mfor\u001b[0m \u001b[0mi\u001b[0m \u001b[1;32min\u001b[0m \u001b[1;33m[\u001b[0m\u001b[0mhistory\u001b[0m\u001b[1;33m,\u001b[0m \u001b[0mhistory1\u001b[0m\u001b[1;33m,\u001b[0m \u001b[0mhistory2\u001b[0m\u001b[1;33m]\u001b[0m\u001b[1;33m:\u001b[0m\u001b[1;33m\u001b[0m\u001b[1;33m\u001b[0m\u001b[0m\n\u001b[0m\u001b[0;32m      4\u001b[0m     \u001b[0mx\u001b[0m \u001b[1;33m=\u001b[0m \u001b[0mi\u001b[0m\u001b[1;33m.\u001b[0m\u001b[0mhistory\u001b[0m\u001b[1;33m.\u001b[0m\u001b[0mget\u001b[0m\u001b[1;33m(\u001b[0m\u001b[1;34m'accuracy'\u001b[0m\u001b[1;33m)\u001b[0m\u001b[1;33m[\u001b[0m\u001b[1;33m-\u001b[0m\u001b[1;36m1\u001b[0m\u001b[1;33m]\u001b[0m\u001b[1;33m\u001b[0m\u001b[1;33m\u001b[0m\u001b[0m\n\u001b[0;32m      5\u001b[0m     \u001b[0mAccuracy\u001b[0m\u001b[1;33m.\u001b[0m\u001b[0mappend\u001b[0m\u001b[1;33m(\u001b[0m\u001b[0mx\u001b[0m\u001b[1;33m)\u001b[0m\u001b[1;33m\u001b[0m\u001b[1;33m\u001b[0m\u001b[0m\n",
      "\u001b[1;31mNameError\u001b[0m: name 'history' is not defined"
     ]
    }
   ],
   "source": [
    "Accuracy = []\n",
    "\n",
    "for i in [history, history1, history2]:\n",
    "    x = i.history.get('accuracy')[-1]\n",
    "    Accuracy.append(x)\n",
    "\n",
    "Accuracy"
   ]
  },
  {
   "cell_type": "code",
   "execution_count": 11,
   "metadata": {},
   "outputs": [
    {
     "ename": "NameError",
     "evalue": "name 'model' is not defined",
     "output_type": "error",
     "traceback": [
      "\u001b[1;31m---------------------------------------------------------------------------\u001b[0m",
      "\u001b[1;31mNameError\u001b[0m                                 Traceback (most recent call last)",
      "\u001b[1;32m<ipython-input-11-1169383c0daa>\u001b[0m in \u001b[0;36m<module>\u001b[1;34m\u001b[0m\n\u001b[0;32m     10\u001b[0m \u001b[0mx\u001b[0m \u001b[1;33m/=\u001b[0m \u001b[1;36m255\u001b[0m\u001b[1;33m\u001b[0m\u001b[1;33m\u001b[0m\u001b[0m\n\u001b[0;32m     11\u001b[0m \u001b[1;33m\u001b[0m\u001b[0m\n\u001b[1;32m---> 12\u001b[1;33m \u001b[0mcustom\u001b[0m \u001b[1;33m=\u001b[0m \u001b[0mmodel\u001b[0m\u001b[1;33m.\u001b[0m\u001b[0mpredict\u001b[0m\u001b[1;33m(\u001b[0m\u001b[0mx\u001b[0m\u001b[1;33m)\u001b[0m\u001b[1;33m\u001b[0m\u001b[1;33m\u001b[0m\u001b[0m\n\u001b[0m\u001b[0;32m     13\u001b[0m \u001b[0mprint\u001b[0m\u001b[1;33m(\u001b[0m\u001b[0mcustom\u001b[0m\u001b[1;33m[\u001b[0m\u001b[1;36m0\u001b[0m\u001b[1;33m]\u001b[0m\u001b[1;33m)\u001b[0m\u001b[1;33m\u001b[0m\u001b[1;33m\u001b[0m\u001b[0m\n\u001b[0;32m     14\u001b[0m \u001b[1;33m\u001b[0m\u001b[0m\n",
      "\u001b[1;31mNameError\u001b[0m: name 'model' is not defined"
     ]
    }
   ],
   "source": [
    "from skimage import io\n",
    "from keras.preprocessing import image\n",
    "\n",
    "img = image.load_img(r'D:\\DL\\Food image Classification\\Food\\apple_pie\\134.jpg', grayscale=False, target_size=(128,128))\n",
    "show_img=image.load_img(r'D:\\DL\\Food image Classification\\Food\\apple_pie\\134.jpg', grayscale=False, target_size=(200, 200))\n",
    "Food = ['Calcium deficiency','Complete nutrition', 'Iron Deficiency', 'Magnesium Deficiencies', 'Nitrogen Deficiency', 'Potassium Deficiency']\n",
    "x = image.img_to_array(img)\n",
    "x = np.expand_dims(x, axis = 0)\n",
    "\n",
    "x /= 255\n",
    "\n",
    "custom = model.predict(x)\n",
    "print(custom[0])\n",
    "\n",
    "\n",
    "plt.imshow(show_img)\n",
    "plt.show()\n",
    "\n",
    "a=custom[0]\n",
    "ind=np.argmax(a)\n",
    "        \n",
    "print('Prediction:',Food[ind])"
   ]
  },
  {
   "cell_type": "code",
   "execution_count": null,
   "metadata": {},
   "outputs": [],
   "source": []
  }
 ],
 "metadata": {
  "interpreter": {
   "hash": "f7291e4b392a32fbfa525b87d1bbd0a3d888adf3d0deca0c205c61b9e7284b82"
  },
  "kernelspec": {
   "display_name": "Python 3.6.8 64-bit",
   "language": "python",
   "name": "python3"
  },
  "language_info": {
   "codemirror_mode": {
    "name": "ipython",
    "version": 3
   },
   "file_extension": ".py",
   "mimetype": "text/x-python",
   "name": "python",
   "nbconvert_exporter": "python",
   "pygments_lexer": "ipython3",
   "version": "3.6.8"
  },
  "orig_nbformat": 4
 },
 "nbformat": 4,
 "nbformat_minor": 2
}
